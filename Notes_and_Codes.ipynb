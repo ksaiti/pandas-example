{
 "cells": [
  {
   "cell_type": "markdown",
   "metadata": {},
   "source": [
    "#### Create a virtual environment \n",
    "\n",
    "Open the integrated terminal by pressing Ctrl + Shift + P and typing \"Python: Create Terminal\"\n",
    "\n",
    "in order to create the environment \n",
    "python -m venv .\\venv\n",
    "Possible issue and solution  -- the python is not installed \n",
    "solution: run in terminal the command python to open the Microsoft Store and install Python\n",
    "\n",
    "in order to activate the environment\n",
    ".\\venv\\Scripts\\activate\n",
    "Possible issue and solution  -- the system is not allowed to run Scripts\n",
    "solution: run these two commands on the terminal\n",
    "Set-ExecutionPolicy RemoteSigned -Scope CurrentUser\n",
    "Get-ExecutionPolicy\n",
    "\n",
    "in order to deactivate the environment \n",
    "run in the ternimal the command: deactivate\n",
    "\n"
   ]
  },
  {
   "cell_type": "markdown",
   "metadata": {},
   "source": []
  },
  {
   "cell_type": "markdown",
   "metadata": {},
   "source": []
  }
 ],
 "metadata": {
  "language_info": {
   "name": "python"
  }
 },
 "nbformat": 4,
 "nbformat_minor": 2
}
