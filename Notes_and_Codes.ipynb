{
 "cells": [
  {
   "cell_type": "markdown",
   "metadata": {},
   "source": [
    "## Create a virtual environment \n",
    "\n",
    "### Open the integrated terminal by pressing Ctrl + Shift + P and typing \"Python: Create Terminal\"\n",
    "\n",
    "### in order to create the environment \n",
    "python -m venv .\\venv\n",
    "Possible issue and solution  -- the python is not installed \n",
    "\n",
    "solution: run in terminal the command python to open the Microsoft Store and install Python\n",
    "\n",
    "### in order to activate the environment\n",
    ".\\venv\\Scripts\\activate\n",
    "Possible issue and solution  -- the system is not allowed to run Scripts\n",
    "\n",
    "solution: run these two commands on the terminal\n",
    "Set-ExecutionPolicy RemoteSigned -Scope CurrentUser\n",
    "Get-ExecutionPolicy\n",
    "\n",
    "### in order to deactivate the environment \n",
    "run in the ternimal the command: deactivate\n",
    "\n"
   ]
  },
  {
   "cell_type": "markdown",
   "metadata": {},
   "source": [
    "## Why to work always on a virtual environment\n",
    "\n",
    "1. Depedency Management\n",
    "2. Reproducibility\n",
    "3. Security\n",
    "4. Avoid conflicts\n",
    "5. Easy of use"
   ]
  },
  {
   "cell_type": "markdown",
   "metadata": {},
   "source": []
  },
  {
   "cell_type": "markdown",
   "metadata": {},
   "source": [
    "## Intoduction to Pandas\n",
    "\n",
    "First you need to install Pandas\n",
    "command to run in a jupyter notebook cell: !pip install pandas\n",
    "command on the terminal: pip install pandas"
   ]
  },
  {
   "cell_type": "markdown",
   "metadata": {},
   "source": [
    "## what if pip is not installed\n",
    "\n",
    "#### Check if pip is installed: Open your terminal or command prompt and type:\n",
    "\n",
    "\n",
    "pip --version\n",
    "Install pip: If pip is not installed, you can install it by downloading and running the get-pip.py script. \n",
    "\n",
    "##### Here are the steps:\n",
    "\n",
    "Download the get-pip.py script from this link using your browser. https://bootstrap.pypa.io/get-pip.py\n",
    "\n",
    "Open your terminal or command prompt and navigate to the directory where you downloaded the script.\n",
    "\n",
    "Run the script with Python:\n",
    "\n",
    "bash\n",
    "python get-pip.py\n",
    "Verify pip installation: After running the script, you should be able to check the installed version of pip:\n",
    "\n",
    "bash\n",
    "pip --version"
   ]
  },
  {
   "cell_type": "markdown",
   "metadata": {},
   "source": []
  },
  {
   "cell_type": "markdown",
   "metadata": {},
   "source": [
    "## Creating Data Structures\n",
    "\n",
    "A Series is a one-dimensional labeled array capable of holding any data type.\n",
    "\n",
    "A DataFrame is a two-dimensional labeled data structure with columns of potentially different types.\n",
    "\n",
    "## Reading Data and Viewing Data\n",
    "\n",
    "You can read data from various file formats such as CSV, Excel, SQL, etc.\n",
    "\n",
    "## Modify Data\n",
    "\n",
    "You can easily add and remove columns\n",
    "\n",
    "## Handle missing Data\n",
    "\n",
    "Check for missing data, fill in or remove missing parts\n",
    "\n",
    "## Group Data \n",
    "\n",
    "## Merge Data"
   ]
  },
  {
   "cell_type": "markdown",
   "metadata": {},
   "source": [
    "## Example using a dataset from kaggle\n",
    "\n",
    "pip install kagglehub\n"
   ]
  },
  {
   "cell_type": "markdown",
   "metadata": {},
   "source": [
    "## Visualize Data\n",
    "\n",
    "pip install matplotlib\n",
    "\n"
   ]
  },
  {
   "cell_type": "markdown",
   "metadata": {},
   "source": [
    "## GitHub commands\n",
    "\n",
    "In case you need to Download Git for Windows \n",
    "https://git-scm.com/downloads/win\n",
    "\n",
    "After downloading and installing Git you can publish your first repository on GitHub\n",
    "\n",
    "git config --global user.email \"you@example.com\"\n",
    "\n",
    "git config --global user.name \"Your Name\"\n",
    "\n",
    "\n",
    "If you want to work with a repo:\n",
    "\n",
    "git fetch\n",
    "git pull\n",
    "git push\n",
    "git status\n",
    "git add. \n",
    "\n",
    "\n"
   ]
  }
 ],
 "metadata": {
  "kernelspec": {
   "display_name": ".venv",
   "language": "python",
   "name": "python3"
  },
  "language_info": {
   "codemirror_mode": {
    "name": "ipython",
    "version": 3
   },
   "file_extension": ".py",
   "mimetype": "text/x-python",
   "name": "python",
   "nbconvert_exporter": "python",
   "pygments_lexer": "ipython3",
   "version": "3.12.7"
  }
 },
 "nbformat": 4,
 "nbformat_minor": 2
}
